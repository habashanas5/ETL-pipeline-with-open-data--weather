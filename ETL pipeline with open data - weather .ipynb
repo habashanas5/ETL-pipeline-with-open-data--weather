{
 "cells": [
  {
   "cell_type": "markdown",
   "id": "c77f9eec",
   "metadata": {},
   "source": [
    "# Download Libraries"
   ]
  },
  {
   "cell_type": "code",
   "execution_count": 1,
   "id": "f7f3a338",
   "metadata": {},
   "outputs": [
    {
     "name": "stdout",
     "output_type": "stream",
     "text": [
      "Requirement already satisfied: psycopg2 in d:\\myprograms\\anaconda\\lib\\site-packages (2.9.10)\n",
      "Requirement already satisfied: pandas in d:\\myprograms\\anaconda\\lib\\site-packages (1.5.3)\n",
      "Requirement already satisfied: sqlalchemy in d:\\myprograms\\anaconda\\lib\\site-packages (1.4.39)\n",
      "Requirement already satisfied: pyarrow in d:\\myprograms\\anaconda\\lib\\site-packages (17.0.0)\n",
      "Requirement already satisfied: google-cloud-bigquery in d:\\myprograms\\anaconda\\lib\\site-packages (3.29.0)\n",
      "Requirement already satisfied: numpy>=1.21.0 in d:\\myprograms\\anaconda\\lib\\site-packages (from pandas) (1.23.5)\n",
      "Requirement already satisfied: python-dateutil>=2.8.1 in d:\\myprograms\\anaconda\\lib\\site-packages (from pandas) (2.8.2)\n",
      "Requirement already satisfied: pytz>=2020.1 in d:\\myprograms\\anaconda\\lib\\site-packages (from pandas) (2022.7)\n",
      "Requirement already satisfied: greenlet!=0.4.17 in d:\\myprograms\\anaconda\\lib\\site-packages (from sqlalchemy) (2.0.1)\n",
      "Requirement already satisfied: requests<3.0.0dev,>=2.21.0 in d:\\myprograms\\anaconda\\lib\\site-packages (from google-cloud-bigquery) (2.28.1)\n",
      "Requirement already satisfied: google-resumable-media<3.0dev,>=2.0.0 in d:\\myprograms\\anaconda\\lib\\site-packages (from google-cloud-bigquery) (2.7.2)\n",
      "Requirement already satisfied: google-api-core[grpc]<3.0.0dev,>=2.11.1 in d:\\myprograms\\anaconda\\lib\\site-packages (from google-cloud-bigquery) (2.19.1)\n",
      "Requirement already satisfied: google-cloud-core<3.0.0dev,>=2.4.1 in d:\\myprograms\\anaconda\\lib\\site-packages (from google-cloud-bigquery) (2.4.1)\n",
      "Requirement already satisfied: google-auth<3.0.0dev,>=2.14.1 in d:\\myprograms\\anaconda\\lib\\site-packages (from google-cloud-bigquery) (2.32.0)\n",
      "Requirement already satisfied: packaging>=20.0.0 in d:\\myprograms\\anaconda\\lib\\site-packages (from google-cloud-bigquery) (22.0)\n",
      "Requirement already satisfied: googleapis-common-protos<2.0.dev0,>=1.56.2 in d:\\myprograms\\anaconda\\lib\\site-packages (from google-api-core[grpc]<3.0.0dev,>=2.11.1->google-cloud-bigquery) (1.63.2)\n",
      "Requirement already satisfied: proto-plus<2.0.0dev,>=1.22.3 in d:\\myprograms\\anaconda\\lib\\site-packages (from google-api-core[grpc]<3.0.0dev,>=2.11.1->google-cloud-bigquery) (1.24.0)\n",
      "Requirement already satisfied: protobuf!=3.20.0,!=3.20.1,!=4.21.0,!=4.21.1,!=4.21.2,!=4.21.3,!=4.21.4,!=4.21.5,<6.0.0.dev0,>=3.19.5 in d:\\myprograms\\anaconda\\lib\\site-packages (from google-api-core[grpc]<3.0.0dev,>=2.11.1->google-cloud-bigquery) (4.25.3)\n",
      "Requirement already satisfied: grpcio-status<2.0.dev0,>=1.33.2 in d:\\myprograms\\anaconda\\lib\\site-packages (from google-api-core[grpc]<3.0.0dev,>=2.11.1->google-cloud-bigquery) (1.62.2)\n",
      "Requirement already satisfied: grpcio<2.0dev,>=1.33.2 in d:\\myprograms\\anaconda\\lib\\site-packages (from google-api-core[grpc]<3.0.0dev,>=2.11.1->google-cloud-bigquery) (1.65.1)\n",
      "Requirement already satisfied: cachetools<6.0,>=2.0.0 in d:\\myprograms\\anaconda\\lib\\site-packages (from google-auth<3.0.0dev,>=2.14.1->google-cloud-bigquery) (5.4.0)\n",
      "Requirement already satisfied: pyasn1-modules>=0.2.1 in d:\\myprograms\\anaconda\\lib\\site-packages (from google-auth<3.0.0dev,>=2.14.1->google-cloud-bigquery) (0.2.8)\n",
      "Requirement already satisfied: rsa<5,>=3.1.4 in d:\\myprograms\\anaconda\\lib\\site-packages (from google-auth<3.0.0dev,>=2.14.1->google-cloud-bigquery) (4.9)\n",
      "Requirement already satisfied: google-crc32c<2.0dev,>=1.0 in d:\\myprograms\\anaconda\\lib\\site-packages (from google-resumable-media<3.0dev,>=2.0.0->google-cloud-bigquery) (1.6.0)\n",
      "Requirement already satisfied: six>=1.5 in d:\\myprograms\\anaconda\\lib\\site-packages (from python-dateutil>=2.8.1->pandas) (1.16.0)\n",
      "Requirement already satisfied: certifi>=2017.4.17 in d:\\myprograms\\anaconda\\lib\\site-packages (from requests<3.0.0dev,>=2.21.0->google-cloud-bigquery) (2022.12.7)\n",
      "Requirement already satisfied: idna<4,>=2.5 in d:\\myprograms\\anaconda\\lib\\site-packages (from requests<3.0.0dev,>=2.21.0->google-cloud-bigquery) (3.4)\n",
      "Requirement already satisfied: charset-normalizer<3,>=2 in d:\\myprograms\\anaconda\\lib\\site-packages (from requests<3.0.0dev,>=2.21.0->google-cloud-bigquery) (2.0.4)\n",
      "Requirement already satisfied: urllib3<1.27,>=1.21.1 in d:\\myprograms\\anaconda\\lib\\site-packages (from requests<3.0.0dev,>=2.21.0->google-cloud-bigquery) (1.26.14)\n",
      "Requirement already satisfied: pyasn1<0.5.0,>=0.4.6 in d:\\myprograms\\anaconda\\lib\\site-packages (from pyasn1-modules>=0.2.1->google-auth<3.0.0dev,>=2.14.1->google-cloud-bigquery) (0.4.8)\n",
      "Note: you may need to restart the kernel to use updated packages.\n"
     ]
    }
   ],
   "source": [
    "pip install psycopg2 pandas sqlalchemy pyarrow google-cloud-bigquery"
   ]
  },
  {
   "cell_type": "markdown",
   "id": "d76ee9ad",
   "metadata": {},
   "source": [
    "# Importing required libraries"
   ]
  },
  {
   "cell_type": "code",
   "execution_count": 2,
   "id": "72e98179",
   "metadata": {},
   "outputs": [],
   "source": [
    "import psycopg2\n",
    "import pandas as pd\n",
    "from google.cloud import bigquery\n",
    "from google.oauth2 import service_account"
   ]
  },
  {
   "cell_type": "markdown",
   "id": "d7c6a73b",
   "metadata": {},
   "source": [
    "# Connecting to PostgreSQL from Python"
   ]
  },
  {
   "cell_type": "code",
   "execution_count": 3,
   "id": "3b28250e",
   "metadata": {},
   "outputs": [
    {
     "name": "stdout",
     "output_type": "stream",
     "text": [
      "Connected to PostgreSQL!\n"
     ]
    }
   ],
   "source": [
    "import psycopg2\n",
    "import pandas as pd\n",
    "\n",
    "conn = psycopg2.connect(\n",
    "    dbname=\"weather_data\",\n",
    "    user=\"postgres\",\n",
    "    password=\"0595497329\",\n",
    "    host=\"localhost\",\n",
    "    port=\"5432\"\n",
    ")\n",
    "cursor = conn.cursor()\n",
    "\n",
    "print(\"Connected to PostgreSQL!\")\n"
   ]
  },
  {
   "cell_type": "markdown",
   "id": "b46dac5f",
   "metadata": {},
   "source": [
    "# Fetch data from PostgreSQL"
   ]
  },
  {
   "cell_type": "code",
   "execution_count": 4,
   "id": "5bdca15f",
   "metadata": {},
   "outputs": [
    {
     "name": "stdout",
     "output_type": "stream",
     "text": [
      "Fetched data from PostgreSQL:\n",
      "   id  temperature  humidity  wind_speed  cloud_cover  pressure     rain\n",
      "0   1        23.72     89.59        7.33        50.50   1032.37     rain\n",
      "1   2        27.87     46.48        5.95         4.99    992.61  no rain\n",
      "2   3        25.06     83.07        1.37        14.85   1007.23  no rain\n",
      "3   4        23.62     74.36        7.05        67.25    982.63     rain\n",
      "4   5        20.59     96.85        4.64        47.67    980.82  no rain\n"
     ]
    },
    {
     "name": "stderr",
     "output_type": "stream",
     "text": [
      "C:\\Users\\Anas\\AppData\\Local\\Temp\\ipykernel_28516\\479444775.py:2: UserWarning: pandas only supports SQLAlchemy connectable (engine/connection) or database string URI or sqlite3 DBAPI2 connection. Other DBAPI2 objects are not tested. Please consider using SQLAlchemy.\n",
      "  weather_data = pd.read_sql(query, conn)\n"
     ]
    }
   ],
   "source": [
    "query = \"SELECT * FROM weather;\"\n",
    "weather_data = pd.read_sql(query, conn)\n",
    "\n",
    "print(\"Fetched data from PostgreSQL:\")\n",
    "print(weather_data.head())"
   ]
  },
  {
   "cell_type": "markdown",
   "id": "ae64c589",
   "metadata": {},
   "source": [
    "# Load data from CSV"
   ]
  },
  {
   "cell_type": "code",
   "execution_count": 5,
   "id": "b214a0f0",
   "metadata": {},
   "outputs": [],
   "source": [
    "data = pd.read_csv(r'weather_forecast_data.csv')"
   ]
  },
  {
   "cell_type": "markdown",
   "id": "3919fdfe",
   "metadata": {},
   "source": [
    "# Data Cleaning and Transformation"
   ]
  },
  {
   "cell_type": "markdown",
   "id": "29434d78",
   "metadata": {},
   "source": [
    "## Getting some info about the data"
   ]
  },
  {
   "cell_type": "code",
   "execution_count": 6,
   "id": "a7f41c33",
   "metadata": {},
   "outputs": [
    {
     "name": "stdout",
     "output_type": "stream",
     "text": [
      "<class 'pandas.core.frame.DataFrame'>\n",
      "RangeIndex: 2500 entries, 0 to 2499\n",
      "Data columns (total 6 columns):\n",
      " #   Column       Non-Null Count  Dtype  \n",
      "---  ------       --------------  -----  \n",
      " 0   Temperature  2500 non-null   float64\n",
      " 1   Humidity     2500 non-null   float64\n",
      " 2   Wind_Speed   2500 non-null   float64\n",
      " 3   Cloud_Cover  2500 non-null   float64\n",
      " 4   Pressure     2500 non-null   float64\n",
      " 5   Rain         2500 non-null   object \n",
      "dtypes: float64(5), object(1)\n",
      "memory usage: 117.3+ KB\n"
     ]
    }
   ],
   "source": [
    "data.info()"
   ]
  },
  {
   "cell_type": "markdown",
   "id": "ec58ebf1",
   "metadata": {},
   "source": [
    "## Dropping rows with missing values"
   ]
  },
  {
   "cell_type": "code",
   "execution_count": 7,
   "id": "1fbfdff9",
   "metadata": {},
   "outputs": [],
   "source": [
    "data = data.dropna()"
   ]
  },
  {
   "cell_type": "markdown",
   "id": "72769df3",
   "metadata": {},
   "source": [
    "## Transformation"
   ]
  },
  {
   "cell_type": "code",
   "execution_count": 8,
   "id": "0605861a",
   "metadata": {},
   "outputs": [
    {
     "name": "stdout",
     "output_type": "stream",
     "text": [
      "Data cleaned successfully.\n"
     ]
    }
   ],
   "source": [
    "data['Temperature'] = data['Temperature'].apply(lambda x: round(x, 2))  # Example transformation\n",
    "print(\"Data cleaned successfully.\")"
   ]
  },
  {
   "cell_type": "markdown",
   "id": "6aae05fa",
   "metadata": {},
   "source": [
    "## Statistical measures about the data"
   ]
  },
  {
   "cell_type": "code",
   "execution_count": 9,
   "id": "b50c067f",
   "metadata": {},
   "outputs": [
    {
     "data": {
      "text/html": [
       "<div>\n",
       "<style scoped>\n",
       "    .dataframe tbody tr th:only-of-type {\n",
       "        vertical-align: middle;\n",
       "    }\n",
       "\n",
       "    .dataframe tbody tr th {\n",
       "        vertical-align: top;\n",
       "    }\n",
       "\n",
       "    .dataframe thead th {\n",
       "        text-align: right;\n",
       "    }\n",
       "</style>\n",
       "<table border=\"1\" class=\"dataframe\">\n",
       "  <thead>\n",
       "    <tr style=\"text-align: right;\">\n",
       "      <th></th>\n",
       "      <th>Temperature</th>\n",
       "      <th>Humidity</th>\n",
       "      <th>Wind_Speed</th>\n",
       "      <th>Cloud_Cover</th>\n",
       "      <th>Pressure</th>\n",
       "    </tr>\n",
       "  </thead>\n",
       "  <tbody>\n",
       "    <tr>\n",
       "      <th>count</th>\n",
       "      <td>2500.000000</td>\n",
       "      <td>2500.000000</td>\n",
       "      <td>2500.000000</td>\n",
       "      <td>2500.000000</td>\n",
       "      <td>2500.000000</td>\n",
       "    </tr>\n",
       "    <tr>\n",
       "      <th>mean</th>\n",
       "      <td>22.581772</td>\n",
       "      <td>64.347094</td>\n",
       "      <td>9.906255</td>\n",
       "      <td>49.658104</td>\n",
       "      <td>1014.312336</td>\n",
       "    </tr>\n",
       "    <tr>\n",
       "      <th>std</th>\n",
       "      <td>7.326991</td>\n",
       "      <td>19.954739</td>\n",
       "      <td>5.780316</td>\n",
       "      <td>29.123104</td>\n",
       "      <td>20.196433</td>\n",
       "    </tr>\n",
       "    <tr>\n",
       "      <th>min</th>\n",
       "      <td>10.000000</td>\n",
       "      <td>30.005071</td>\n",
       "      <td>0.009819</td>\n",
       "      <td>0.015038</td>\n",
       "      <td>980.014486</td>\n",
       "    </tr>\n",
       "    <tr>\n",
       "      <th>25%</th>\n",
       "      <td>16.360000</td>\n",
       "      <td>47.339815</td>\n",
       "      <td>4.761909</td>\n",
       "      <td>23.900016</td>\n",
       "      <td>996.938630</td>\n",
       "    </tr>\n",
       "    <tr>\n",
       "      <th>50%</th>\n",
       "      <td>22.535000</td>\n",
       "      <td>63.920797</td>\n",
       "      <td>9.908572</td>\n",
       "      <td>49.488284</td>\n",
       "      <td>1013.433035</td>\n",
       "    </tr>\n",
       "    <tr>\n",
       "      <th>75%</th>\n",
       "      <td>28.972500</td>\n",
       "      <td>81.561021</td>\n",
       "      <td>14.948408</td>\n",
       "      <td>75.324140</td>\n",
       "      <td>1031.735067</td>\n",
       "    </tr>\n",
       "    <tr>\n",
       "      <th>max</th>\n",
       "      <td>35.000000</td>\n",
       "      <td>99.997481</td>\n",
       "      <td>19.999132</td>\n",
       "      <td>99.997795</td>\n",
       "      <td>1049.985593</td>\n",
       "    </tr>\n",
       "  </tbody>\n",
       "</table>\n",
       "</div>"
      ],
      "text/plain": [
       "       Temperature     Humidity   Wind_Speed  Cloud_Cover     Pressure\n",
       "count  2500.000000  2500.000000  2500.000000  2500.000000  2500.000000\n",
       "mean     22.581772    64.347094     9.906255    49.658104  1014.312336\n",
       "std       7.326991    19.954739     5.780316    29.123104    20.196433\n",
       "min      10.000000    30.005071     0.009819     0.015038   980.014486\n",
       "25%      16.360000    47.339815     4.761909    23.900016   996.938630\n",
       "50%      22.535000    63.920797     9.908572    49.488284  1013.433035\n",
       "75%      28.972500    81.561021    14.948408    75.324140  1031.735067\n",
       "max      35.000000    99.997481    19.999132    99.997795  1049.985593"
      ]
     },
     "execution_count": 9,
     "metadata": {},
     "output_type": "execute_result"
    }
   ],
   "source": [
    "data.describe()"
   ]
  },
  {
   "cell_type": "markdown",
   "id": "01d60503",
   "metadata": {},
   "source": [
    "## Getting types for each feature"
   ]
  },
  {
   "cell_type": "code",
   "execution_count": 10,
   "id": "39c72b03",
   "metadata": {},
   "outputs": [
    {
     "data": {
      "text/plain": [
       "Temperature    float64\n",
       "Humidity       float64\n",
       "Wind_Speed     float64\n",
       "Cloud_Cover    float64\n",
       "Pressure       float64\n",
       "Rain            object\n",
       "dtype: object"
      ]
     },
     "execution_count": 10,
     "metadata": {},
     "output_type": "execute_result"
    }
   ],
   "source": [
    "data.dtypes"
   ]
  },
  {
   "cell_type": "markdown",
   "id": "06ce27d5",
   "metadata": {},
   "source": [
    "## Number of rows and columns in the dataset"
   ]
  },
  {
   "cell_type": "code",
   "execution_count": 11,
   "id": "f2ea3016",
   "metadata": {},
   "outputs": [
    {
     "data": {
      "text/plain": [
       "(2500, 6)"
      ]
     },
     "execution_count": 11,
     "metadata": {},
     "output_type": "execute_result"
    }
   ],
   "source": [
    "data.shape"
   ]
  },
  {
   "cell_type": "markdown",
   "id": "adc1da2b",
   "metadata": {},
   "source": [
    "## Checking for missing values"
   ]
  },
  {
   "cell_type": "code",
   "execution_count": 12,
   "id": "02c2baa5",
   "metadata": {},
   "outputs": [
    {
     "data": {
      "text/plain": [
       "Temperature    0\n",
       "Humidity       0\n",
       "Wind_Speed     0\n",
       "Cloud_Cover    0\n",
       "Pressure       0\n",
       "Rain           0\n",
       "dtype: int64"
      ]
     },
     "execution_count": 12,
     "metadata": {},
     "output_type": "execute_result"
    }
   ],
   "source": [
    "data.isnull().sum()"
   ]
  },
  {
   "cell_type": "markdown",
   "id": "f51eb614",
   "metadata": {},
   "source": [
    "## Load data into PostgreSQL"
   ]
  },
  {
   "cell_type": "code",
   "execution_count": 13,
   "id": "51a77306",
   "metadata": {},
   "outputs": [],
   "source": [
    "for index, row in data.iterrows():\n",
    "    cursor.execute(\"\"\"\n",
    "        INSERT INTO weather (temperature, humidity, wind_speed, cloud_cover, pressure, rain)\n",
    "        VALUES (%s, %s, %s, %s, %s, %s)\n",
    "    \"\"\", (row['Temperature'], row['Humidity'], row['Wind_Speed'], row['Cloud_Cover'], row['Pressure'], row['Rain']))"
   ]
  },
  {
   "cell_type": "code",
   "execution_count": 14,
   "id": "a7d76278",
   "metadata": {},
   "outputs": [
    {
     "name": "stdout",
     "output_type": "stream",
     "text": [
      "Data uploaded to PostgreSQL successfully!\n"
     ]
    }
   ],
   "source": [
    "conn.commit()\n",
    "print(\"Data uploaded to PostgreSQL successfully!\")"
   ]
  },
  {
   "cell_type": "markdown",
   "id": "630aaba9",
   "metadata": {},
   "source": [
    "# Load data to Google BigQuery"
   ]
  },
  {
   "cell_type": "code",
   "execution_count": 15,
   "id": "35f16b10",
   "metadata": {},
   "outputs": [
    {
     "name": "stdout",
     "output_type": "stream",
     "text": [
      "Loading data to Google BigQuery...\n"
     ]
    }
   ],
   "source": [
    "print(\"Loading data to Google BigQuery...\")\n",
    "credentials = service_account.Credentials.from_service_account_file('weather-448908-24a8af7113c4.json')\n",
    "client = bigquery.Client(credentials=credentials, project=credentials.project_id)"
   ]
  },
  {
   "cell_type": "markdown",
   "id": "de78d4df",
   "metadata": {},
   "source": [
    "# Define dataset and table in BigQuery"
   ]
  },
  {
   "cell_type": "code",
   "execution_count": 16,
   "id": "99aba2b0",
   "metadata": {},
   "outputs": [],
   "source": [
    "dataset_id = 'weather_data'\n",
    "table_id = 'weather'"
   ]
  },
  {
   "cell_type": "markdown",
   "id": "f4baa7fb",
   "metadata": {},
   "source": [
    "# Convert DataFrame to BigQuery format"
   ]
  },
  {
   "cell_type": "code",
   "execution_count": 17,
   "id": "e0945860",
   "metadata": {},
   "outputs": [
    {
     "name": "stdout",
     "output_type": "stream",
     "text": [
      "Requirement already satisfied: pandas-gbq in d:\\myprograms\\anaconda\\lib\\site-packages (0.26.1)\n",
      "Requirement already satisfied: google-api-core<3.0.0dev,>=2.10.2 in d:\\myprograms\\anaconda\\lib\\site-packages (from pandas-gbq) (2.19.1)\n",
      "Requirement already satisfied: google-auth-oauthlib>=0.7.0 in d:\\myprograms\\anaconda\\lib\\site-packages (from pandas-gbq) (1.2.1)\n",
      "Requirement already satisfied: db-dtypes<2.0.0,>=1.0.4 in d:\\myprograms\\anaconda\\lib\\site-packages (from pandas-gbq) (1.4.0)\n",
      "Requirement already satisfied: pydata-google-auth>=1.5.0 in d:\\myprograms\\anaconda\\lib\\site-packages (from pandas-gbq) (1.9.1)\n",
      "Requirement already satisfied: google-cloud-bigquery<4.0.0dev,>=3.4.2 in d:\\myprograms\\anaconda\\lib\\site-packages (from pandas-gbq) (3.29.0)\n",
      "Requirement already satisfied: pyarrow>=4.0.0 in d:\\myprograms\\anaconda\\lib\\site-packages (from pandas-gbq) (17.0.0)\n",
      "Requirement already satisfied: google-auth>=2.13.0 in d:\\myprograms\\anaconda\\lib\\site-packages (from pandas-gbq) (2.32.0)\n",
      "Requirement already satisfied: packaging>=22.0.0 in d:\\myprograms\\anaconda\\lib\\site-packages (from pandas-gbq) (22.0)\n",
      "Requirement already satisfied: numpy>=1.18.1 in d:\\myprograms\\anaconda\\lib\\site-packages (from pandas-gbq) (1.23.5)\n",
      "Requirement already satisfied: pandas>=1.1.4 in d:\\myprograms\\anaconda\\lib\\site-packages (from pandas-gbq) (1.5.3)\n",
      "Requirement already satisfied: setuptools in d:\\myprograms\\anaconda\\lib\\site-packages (from pandas-gbq) (65.6.3)\n",
      "Requirement already satisfied: proto-plus<2.0.0dev,>=1.22.3 in d:\\myprograms\\anaconda\\lib\\site-packages (from google-api-core<3.0.0dev,>=2.10.2->pandas-gbq) (1.24.0)\n",
      "Requirement already satisfied: googleapis-common-protos<2.0.dev0,>=1.56.2 in d:\\myprograms\\anaconda\\lib\\site-packages (from google-api-core<3.0.0dev,>=2.10.2->pandas-gbq) (1.63.2)\n",
      "Requirement already satisfied: requests<3.0.0.dev0,>=2.18.0 in d:\\myprograms\\anaconda\\lib\\site-packages (from google-api-core<3.0.0dev,>=2.10.2->pandas-gbq) (2.28.1)\n",
      "Requirement already satisfied: protobuf!=3.20.0,!=3.20.1,!=4.21.0,!=4.21.1,!=4.21.2,!=4.21.3,!=4.21.4,!=4.21.5,<6.0.0.dev0,>=3.19.5 in d:\\myprograms\\anaconda\\lib\\site-packages (from google-api-core<3.0.0dev,>=2.10.2->pandas-gbq) (4.25.3)\n",
      "Requirement already satisfied: pyasn1-modules>=0.2.1 in d:\\myprograms\\anaconda\\lib\\site-packages (from google-auth>=2.13.0->pandas-gbq) (0.2.8)\n",
      "Requirement already satisfied: cachetools<6.0,>=2.0.0 in d:\\myprograms\\anaconda\\lib\\site-packages (from google-auth>=2.13.0->pandas-gbq) (5.4.0)\n",
      "Requirement already satisfied: rsa<5,>=3.1.4 in d:\\myprograms\\anaconda\\lib\\site-packages (from google-auth>=2.13.0->pandas-gbq) (4.9)\n",
      "Requirement already satisfied: requests-oauthlib>=0.7.0 in d:\\myprograms\\anaconda\\lib\\site-packages (from google-auth-oauthlib>=0.7.0->pandas-gbq) (2.0.0)\n",
      "Requirement already satisfied: google-resumable-media<3.0dev,>=2.0.0 in d:\\myprograms\\anaconda\\lib\\site-packages (from google-cloud-bigquery<4.0.0dev,>=3.4.2->pandas-gbq) (2.7.2)\n",
      "Requirement already satisfied: python-dateutil<3.0dev,>=2.7.3 in d:\\myprograms\\anaconda\\lib\\site-packages (from google-cloud-bigquery<4.0.0dev,>=3.4.2->pandas-gbq) (2.8.2)\n",
      "Requirement already satisfied: google-cloud-core<3.0.0dev,>=2.4.1 in d:\\myprograms\\anaconda\\lib\\site-packages (from google-cloud-bigquery<4.0.0dev,>=3.4.2->pandas-gbq) (2.4.1)\n",
      "Requirement already satisfied: pytz>=2020.1 in d:\\myprograms\\anaconda\\lib\\site-packages (from pandas>=1.1.4->pandas-gbq) (2022.7)\n",
      "Requirement already satisfied: grpcio-status<2.0.dev0,>=1.33.2 in d:\\myprograms\\anaconda\\lib\\site-packages (from google-api-core<3.0.0dev,>=2.10.2->pandas-gbq) (1.62.2)\n",
      "Requirement already satisfied: grpcio<2.0dev,>=1.33.2 in d:\\myprograms\\anaconda\\lib\\site-packages (from google-api-core<3.0.0dev,>=2.10.2->pandas-gbq) (1.65.1)\n",
      "Requirement already satisfied: google-crc32c<2.0dev,>=1.0 in d:\\myprograms\\anaconda\\lib\\site-packages (from google-resumable-media<3.0dev,>=2.0.0->google-cloud-bigquery<4.0.0dev,>=3.4.2->pandas-gbq) (1.6.0)\n",
      "Requirement already satisfied: pyasn1<0.5.0,>=0.4.6 in d:\\myprograms\\anaconda\\lib\\site-packages (from pyasn1-modules>=0.2.1->google-auth>=2.13.0->pandas-gbq) (0.4.8)\n",
      "Requirement already satisfied: six>=1.5 in d:\\myprograms\\anaconda\\lib\\site-packages (from python-dateutil<3.0dev,>=2.7.3->google-cloud-bigquery<4.0.0dev,>=3.4.2->pandas-gbq) (1.16.0)\n",
      "Requirement already satisfied: idna<4,>=2.5 in d:\\myprograms\\anaconda\\lib\\site-packages (from requests<3.0.0.dev0,>=2.18.0->google-api-core<3.0.0dev,>=2.10.2->pandas-gbq) (3.4)\n",
      "Requirement already satisfied: urllib3<1.27,>=1.21.1 in d:\\myprograms\\anaconda\\lib\\site-packages (from requests<3.0.0.dev0,>=2.18.0->google-api-core<3.0.0dev,>=2.10.2->pandas-gbq) (1.26.14)\n",
      "Requirement already satisfied: certifi>=2017.4.17 in d:\\myprograms\\anaconda\\lib\\site-packages (from requests<3.0.0.dev0,>=2.18.0->google-api-core<3.0.0dev,>=2.10.2->pandas-gbq) (2022.12.7)\n",
      "Requirement already satisfied: charset-normalizer<3,>=2 in d:\\myprograms\\anaconda\\lib\\site-packages (from requests<3.0.0.dev0,>=2.18.0->google-api-core<3.0.0dev,>=2.10.2->pandas-gbq) (2.0.4)\n",
      "Requirement already satisfied: oauthlib>=3.0.0 in d:\\myprograms\\anaconda\\lib\\site-packages (from requests-oauthlib>=0.7.0->google-auth-oauthlib>=0.7.0->pandas-gbq) (3.2.2)\n"
     ]
    }
   ],
   "source": [
    "!pip install pandas-gbq"
   ]
  },
  {
   "cell_type": "code",
   "execution_count": null,
   "id": "57407e0a",
   "metadata": {},
   "outputs": [],
   "source": [
    "conda install -c conda-forge pandas-gbq"
   ]
  },
  {
   "cell_type": "code",
   "execution_count": null,
   "id": "87ed770f",
   "metadata": {},
   "outputs": [],
   "source": [
    "data.to_gbq(destination_table=f'{dataset_id}.{table_id}', project_id=credentials.project_id, if_exists='replace', credentials=credentials)\n",
    "print(\"Data loaded to Google BigQuery successfully!\")"
   ]
  },
  {
   "cell_type": "markdown",
   "id": "4da03112",
   "metadata": {},
   "source": [
    "# Step 7: Close the connection"
   ]
  },
  {
   "cell_type": "code",
   "execution_count": null,
   "id": "2e2a01bb",
   "metadata": {},
   "outputs": [],
   "source": [
    "cursor.close()\n",
    "conn.close()\n",
    "print(\"ETL pipeline completed successfully!\")"
   ]
  },
  {
   "cell_type": "code",
   "execution_count": null,
   "id": "2bbb2d7a",
   "metadata": {},
   "outputs": [],
   "source": []
  }
 ],
 "metadata": {
  "kernelspec": {
   "display_name": "Python 3 (ipykernel)",
   "language": "python",
   "name": "python3"
  },
  "language_info": {
   "codemirror_mode": {
    "name": "ipython",
    "version": 3
   },
   "file_extension": ".py",
   "mimetype": "text/x-python",
   "name": "python",
   "nbconvert_exporter": "python",
   "pygments_lexer": "ipython3",
   "version": "3.10.9"
  }
 },
 "nbformat": 4,
 "nbformat_minor": 5
}
